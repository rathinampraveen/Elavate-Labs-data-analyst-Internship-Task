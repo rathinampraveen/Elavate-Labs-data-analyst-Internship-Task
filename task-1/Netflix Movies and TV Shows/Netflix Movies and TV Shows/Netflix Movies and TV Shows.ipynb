{
 "cells": [
  {
   "cell_type": "code",
   "execution_count": 1,
   "id": "299c66f7",
   "metadata": {},
   "outputs": [],
   "source": [
    "import pandas as pd\n",
    "import numpy as np\n",
    "import matplotlib.pyplot as plt\n",
    "%matplotlib inline\n",
    "# Ignore Warnings\n",
    "import warnings\n",
    "warnings.filterwarnings('ignore')"
   ]
  },
  {
   "cell_type": "code",
   "execution_count": 2,
   "id": "6135bbd5",
   "metadata": {},
   "outputs": [],
   "source": [
    "#Load the dataset\n",
    "df = pd.read_csv(\"netflix_titles.csv\")"
   ]
  },
  {
   "cell_type": "code",
   "execution_count": 3,
   "id": "57d1759d",
   "metadata": {},
   "outputs": [
    {
     "name": "stdout",
     "output_type": "stream",
     "text": [
      "Missing values per column:\n",
      " show_id            0\n",
      "type               0\n",
      "title              0\n",
      "director        2634\n",
      "cast             825\n",
      "country          831\n",
      "date_added        10\n",
      "release_year       0\n",
      "rating             4\n",
      "duration           3\n",
      "listed_in          0\n",
      "description        0\n",
      "dtype: int64\n"
     ]
    }
   ],
   "source": [
    "#Identify and handle missing values\n",
    "print(\"Missing values per column:\\n\", df.isnull().sum())\n"
   ]
  },
  {
   "cell_type": "code",
   "execution_count": 4,
   "id": "f5695c85",
   "metadata": {},
   "outputs": [],
   "source": [
    "# Fill missing values if needed (can also choose to drop them)\n",
    "df['director'].fillna(\"unknown\", inplace=True)\n",
    "df['cast'].fillna(\"not available\", inplace=True)\n",
    "df['country'].fillna(\"unknown\", inplace=True)\n",
    "df['date_added'].fillna(method='ffill', inplace=True)  # forward fill\n",
    "df['rating'].fillna(\"unknown\", inplace=True)"
   ]
  },
  {
   "cell_type": "code",
   "execution_count": 5,
   "id": "e68b6c79",
   "metadata": {},
   "outputs": [],
   "source": [
    "#Remove duplicate rows\n",
    "df.drop_duplicates(inplace=True)\n"
   ]
  },
  {
   "cell_type": "code",
   "execution_count": 6,
   "id": "623a1bb2",
   "metadata": {},
   "outputs": [],
   "source": [
    "#Standardize text values\n",
    "text_cols = ['type', 'title', 'director', 'cast', 'country', 'rating']\n",
    "for col in text_cols:\n",
    "    df[col] = df[col].astype(str).str.lower().str.strip()"
   ]
  },
  {
   "cell_type": "code",
   "execution_count": 7,
   "id": "f554afd3",
   "metadata": {},
   "outputs": [],
   "source": [
    "# Convert date formats to consistent type (e.g., dd-mm-yyyy)\n",
    "df['date_added'] = pd.to_datetime(df['date_added'], format='%B %d, %Y', errors='coerce')\n"
   ]
  },
  {
   "cell_type": "code",
   "execution_count": 8,
   "id": "195f1117",
   "metadata": {},
   "outputs": [],
   "source": [
    "# Rename column headers to be clean and uniform\n",
    "df.columns = df.columns.str.lower().str.replace(\" \", \"_\")\n"
   ]
  },
  {
   "cell_type": "code",
   "execution_count": 9,
   "id": "8233ee36",
   "metadata": {},
   "outputs": [],
   "source": [
    "#Check and fix data types\n",
    "# Ensure 'release_year' is int\n",
    "df['release_year'] = df['release_year'].astype(int)\n"
   ]
  },
  {
   "cell_type": "code",
   "execution_count": 10,
   "id": "e390622a",
   "metadata": {},
   "outputs": [],
   "source": [
    "# Save the cleaned dataset\n",
    "df.to_csv(\"netflix_titles_cleaned.csv\", index=False)"
   ]
  }
 ],
 "metadata": {
  "kernelspec": {
   "display_name": "ml",
   "language": "python",
   "name": "ml"
  },
  "language_info": {
   "codemirror_mode": {
    "name": "ipython",
    "version": 3
   },
   "file_extension": ".py",
   "mimetype": "text/x-python",
   "name": "python",
   "nbconvert_exporter": "python",
   "pygments_lexer": "ipython3",
   "version": "3.11.8"
  }
 },
 "nbformat": 4,
 "nbformat_minor": 5
}
